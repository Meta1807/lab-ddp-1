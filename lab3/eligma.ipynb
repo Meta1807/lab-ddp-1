{
 "metadata": {
  "language_info": {
   "codemirror_mode": {
    "name": "ipython",
    "version": 3
   },
   "file_extension": ".py",
   "mimetype": "text/x-python",
   "name": "python",
   "nbconvert_exporter": "python",
   "pygments_lexer": "ipython3",
   "version": "3.8.5-final"
  },
  "orig_nbformat": 2,
  "kernelspec": {
   "name": "Python 3.8.5 64-bit",
   "display_name": "Python 3.8.5 64-bit",
   "metadata": {
    "interpreter": {
     "hash": "22394632afb2544dad36883adb18957855f95a691faf19bc8fa8d22585a5674f"
    }
   }
  }
 },
 "nbformat": 4,
 "nbformat_minor": 2,
 "cells": [
  {
   "cell_type": "code",
   "execution_count": 93,
   "metadata": {
    "tags": []
   },
   "outputs": [
    {
     "output_type": "execute_result",
     "data": {
      "text/plain": [
       "'csui'"
      ]
     },
     "metadata": {},
     "execution_count": 93
    }
   ],
   "source": [
    "def convert_to_eligma(string):\n",
    "    offset = 0\n",
    "    alpha = ''\n",
    "    cipher_text = ''\n",
    "\n",
    "    for c in string:\n",
    "        if c.isnumeric():\n",
    "            offset += int(c)\n",
    "        else:\n",
    "            alpha += c\n",
    "\n",
    "    for item in alpha:\n",
    "        # Overflow algorithm (the range for characters in unicode is 97-122 (a-z), hence if we subtract by 97 and modulo, \n",
    "        # we can account for offset overflows)\n",
    "        cipher_offset = (ord(item) + offset - 97) % 26\n",
    "        # Print character based on the \n",
    "        cipher_text += (chr(ord('a') + cipher_offset))\n",
    "\n",
    "    return cipher_text\n",
    "\n",
    "convert_to_eligma('aqs11g')"
   ]
  },
  {
   "cell_type": "code",
   "execution_count": 92,
   "metadata": {},
   "outputs": [
    {
     "output_type": "stream",
     "name": "stdout",
     "text": [
      "fusclkom\n"
     ]
    }
   ],
   "source": [
    "initial_string = input(\"Masukkan string yang ingin di encode: \")\n",
    "encrypted_string = convert_to_eligma(initial_string)\n",
    "\n",
    "print(encrypted_string)"
   ]
  },
  {
   "cell_type": "code",
   "execution_count": 248,
   "metadata": {},
   "outputs": [
    {
     "output_type": "execute_result",
     "data": {
      "text/plain": [
       "'Fasilkom'"
      ]
     },
     "metadata": {},
     "execution_count": 248
    }
   ],
   "source": [
    "# a-z is 97-122\n",
    "# A-Z is 65-90\n",
    "alphabet = {}\n",
    "\n",
    "for i in range(65, 91):\n",
    "    alphabet[chr(i)] = i - 65\n",
    "\n",
    "for i in range(97, 123):\n",
    "    alphabet[chr(i)] = i - 71\n",
    "\n",
    "def convert_to_modified_eligma(string):\n",
    "    offset = 0\n",
    "    alpha = ''\n",
    "    cipher_text = ''\n",
    "    \n",
    "    for c in string:\n",
    "        if c.isnumeric():\n",
    "            offset += int(c)\n",
    "        else:\n",
    "            alpha += c\n",
    "\n",
    "    for item in alpha:\n",
    "        # Overflow algorithm (the range for characters in unicode is 97-122 (a-z), hence if we subtract by 97 and modulo, \n",
    "        # we can account for offset overflows)\n",
    "        cipher_offset = (alphabet[item] + offset) % 52\n",
    "        cipher_text += list(alphabet.keys())[cipher_offset]\n",
    "    return cipher_text\n",
    "        \n",
    "\n",
    "convert_to_modified_eligma('2vQ1iY1ba3ec3')"
   ]
  },
  {
   "cell_type": "code",
   "execution_count": 184,
   "metadata": {},
   "outputs": [
    {
     "output_type": "execute_result",
     "data": {
      "text/plain": [
       "'c'"
      ]
     },
     "metadata": {},
     "execution_count": 184
    }
   ],
   "source": [
    "chr(ord('Y') + 10)"
   ]
  },
  {
   "cell_type": "code",
   "execution_count": null,
   "metadata": {},
   "outputs": [],
   "source": []
  }
 ]
}