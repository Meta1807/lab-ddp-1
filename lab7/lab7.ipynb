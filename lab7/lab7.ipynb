{
 "cells": [
  {
   "cell_type": "code",
   "execution_count": 327,
   "metadata": {},
   "outputs": [
    {
     "name": "stdout",
     "output_type": "stream",
     "text": [
      "Masukkan isi Crepes: (((())))\n",
      "kosong\n"
     ]
    }
   ],
   "source": [
    "def unpack(item):\n",
    "    lst = []  # Initialize an empty list. The recursive function will add to this list the unpacked items\n",
    "    if isinstance(item, tuple):\n",
    "        if len(item) == 0:\n",
    "            return ''  # If the length of the unpacked item is equal to 0, the function returns an empty string to the next function\n",
    "        elif len(item) == 1:\n",
    "            return unpack(item[0])  # If the variable only has 1 items, then recursively call unpack() to check if the item is a nested tuple\n",
    "        elif len(item) > 1:\n",
    "            # If there is more than one item, we must iterate through it and unpack every single item.\n",
    "            # To do this recursively without a for loop, we first try to unpack the first index by recursively\n",
    "            # calling unpack(item[0]), afterwards we try to unpack the next item along and repeat until we get a flattened string.\n",
    "            lst.append(unpack(item[0]))\n",
    "            lst.append(unpack(item[1:]))\n",
    "        # Finally, we return the flattened objects to the next function in the call stack.\n",
    "        return ' '.join(filter(str.strip, lst)) \n",
    "    else:\n",
    "        # If the item is not a tuple, then we simply return the item (ex: if the item was a string)\n",
    "        return item\n",
    "\n",
    "user_input = eval(input('Masukkan isi Crepes: '))\n",
    "unpacked = unpack(user_input)\n",
    "# This if block is used to check if the unpacked tuple is empty/not, if it is empty then we print 'kosong'.\n",
    "if len(unpacked.split()) == 0:\n",
    "    print('kosong')\n",
    "else:\n",
    "    print(unpacked)"
   ]
  }
 ],
 "metadata": {
  "kernelspec": {
   "display_name": "Python 3",
   "language": "python",
   "name": "python3"
  },
  "language_info": {
   "codemirror_mode": {
    "name": "ipython",
    "version": 3
   },
   "file_extension": ".py",
   "mimetype": "text/x-python",
   "name": "python",
   "nbconvert_exporter": "python",
   "pygments_lexer": "ipython3",
   "version": "3.8.5"
  }
 },
 "nbformat": 4,
 "nbformat_minor": 2
}
