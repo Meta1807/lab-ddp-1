{
 "metadata": {
  "language_info": {
   "codemirror_mode": {
    "name": "ipython",
    "version": 3
   },
   "file_extension": ".py",
   "mimetype": "text/x-python",
   "name": "python",
   "nbconvert_exporter": "python",
   "pygments_lexer": "ipython3",
   "version": "3.8.5-final"
  },
  "orig_nbformat": 2,
  "kernelspec": {
   "name": "python3",
   "display_name": "Python 3",
   "language": "python"
  }
 },
 "nbformat": 4,
 "nbformat_minor": 2,
 "cells": [
  {
   "cell_type": "code",
   "execution_count": 1,
   "metadata": {},
   "outputs": [
    {
     "output_type": "error",
     "ename": "IndentationError",
     "evalue": "expected an indented block (<ipython-input-1-2fe1be7c8a5b>, line 23)",
     "traceback": [
      "\u001b[1;36m  File \u001b[1;32m\"<ipython-input-1-2fe1be7c8a5b>\"\u001b[1;36m, line \u001b[1;32m23\u001b[0m\n\u001b[1;33m    def create_editor(self):\u001b[0m\n\u001b[1;37m    ^\u001b[0m\n\u001b[1;31mIndentationError\u001b[0m\u001b[1;31m:\u001b[0m expected an indented block\n"
     ]
    }
   ],
   "source": [
    "from tkinter import *\n",
    "from tkinter.filedialog import asksaveasfilename, askopenfilename\n",
    "\n",
    "# TODO: Lengkapi class Application dibawah ini\n",
    "class Application(Frame):\n",
    "def __init__(self, master=None):\n",
    "    super().__init__(master)\n",
    "    self.master = master\n",
    "    self.initUI()\n",
    "    self.create_buttons()\n",
    "    self.create_editor()\n",
    "\n",
    "def initUI(self):\n",
    "    # TODO: Atur judul dan ukuran dari main window,\n",
    "    # lalu buat sebuah Frame sebagai anchor dari seluruh button\n",
    "    self.master.title('Pacil Editor')\n",
    "    self.master.geometry('800x600')\n",
    "\n",
    "def create_buttons(self):\n",
    "    # TODO: Implementasikan semua button yang dibutuhkan\n",
    "    \n",
    "\n",
    "def create_editor(self):\n",
    "    # TODO: Implementasikan textbox\n",
    "    pass\n",
    "\n",
    "def load_file_event(self, event):\n",
    "    self.load_file()\n",
    "\n",
    "def load_file(self):\n",
    "    file_name = askopenfilename(\n",
    "        filetypes=[(\"All files\", \"*\")]\n",
    "    )\n",
    "    if not file_name:  # Jika pengguna membatalkan dialog, langsung return\n",
    "        return\n",
    "    text_file = open(file_name, 'r', encoding=\"utf-8\")\n",
    "    result = text_file.read()\n",
    "    # TODO: tampilkan result di textbox\n",
    "\n",
    "def save_file_event(self, event):\n",
    "    self.save_file()\n",
    "\n",
    "def save_file(self):\n",
    "    file_name = asksaveasfilename(\n",
    "        filetypes=[(\"All files\", \"*\")]\n",
    "    )\n",
    "    if not file_name:  # Jika pengguna membatalkan dialog, langsung return\n",
    "        return\n",
    "    # TODO: ambil isi dari textbox lalu simpan dalam file dengan nama file_name\n",
    "\n",
    "def set_text(self, text=''):\n",
    "    self.edit.delete('1.0', END)\n",
    "    self.edit.insert('1.0', text)\n",
    "    self.edit.mark_set(INSERT, '1.0')\n",
    "    self.edit.focus()\n",
    "\n",
    "def get_text(self):\n",
    "    return self.edit.get('1.0', END+'-1c')\n",
    "\n",
    "\n",
    "if __name__ == \"__main__\":\n",
    "root = Tk()\n",
    "app = Application(master=root)\n",
    "app.mainloop()\n"
   ]
  },
  {
   "cell_type": "code",
   "execution_count": null,
   "metadata": {},
   "outputs": [],
   "source": []
  }
 ]
}