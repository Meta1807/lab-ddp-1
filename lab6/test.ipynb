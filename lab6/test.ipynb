{
 "metadata": {
  "language_info": {
   "codemirror_mode": {
    "name": "ipython",
    "version": 3
   },
   "file_extension": ".py",
   "mimetype": "text/x-python",
   "name": "python",
   "nbconvert_exporter": "python",
   "pygments_lexer": "ipython3",
   "version": "3.8.5-final"
  },
  "orig_nbformat": 2,
  "kernelspec": {
   "name": "python3",
   "display_name": "Python 3"
  }
 },
 "nbformat": 4,
 "nbformat_minor": 2,
 "cells": [
  {
   "cell_type": "code",
   "execution_count": 111,
   "metadata": {},
   "outputs": [],
   "source": [
    "class Data():\n",
    "    def __init__(self, menuData):\n",
    "        self.menu = menuData\n",
    "        self.bought = set()\n",
    "        self.income = 0\n",
    "    def beliNama(self, donut: str):\n",
    "        if donut in self.menu.keys():\n",
    "            self.income += self.menu[donut]['harga']\n",
    "            self.bought.add(donut)\n",
    "            print(f'{donut} terjual dengan harga {self.menu[donut][\"harga\"]}')\n",
    "        else:\n",
    "            print(f'Tidak ada Donat DUARRR!!! dengan nama {donut} :(')\n",
    "    def beliRasa(self, rasa: str):\n",
    "        listRasa = []\n",
    "        for key, value in self.menu.items():\n",
    "            if value['rasa'] == rasa:\n",
    "                listRasa.append((key, value))\n",
    "        if (listRasa):\n",
    "            max_price = max(listRasa, key=lambda x: x[1]['harga'])\n",
    "            self.income += max_price[1]['harga']\n",
    "            self.bought.add(max_price[0])\n",
    "            print(f'{max_price[0]} terjual dengan harga {max_price[1][\"harga\"]}')\n",
    "        else:\n",
    "            print(f'Tidak ada Donut DUARRR!!! dengan rasa {rasa} :(')\n",
    "    def returnBought(self):\n",
    "        string = ''\n",
    "        for index, item in enumerate(self.bought):\n",
    "            if index != len(self.bought) - 1:\n",
    "                string += item + ', '\n",
    "            else:\n",
    "                string += item\n",
    "        return string"
   ]
  },
  {
   "cell_type": "code",
   "execution_count": 112,
   "metadata": {},
   "outputs": [
    {
     "output_type": "stream",
     "name": "stdout",
     "text": [
      "DonatJava terjual dengan harga 3500\n",
      "Current Income: 3500\n",
      "Tidak ada Donat DUARRR!!! dengan nama DonatPython :(\n",
      "DonatCPP terjual dengan harga 5000\n",
      "Current Income: 8500\n",
      "Tidak ada Donut DUARRR!!! dengan rasa Cinta :(\n",
      "DonatJava terjual dengan harga 3500\n",
      "Current Income: 12000\n",
      "Donat Terjual: DonatCPP, DonatJava\n",
      "Total Pendapatan: 12000\n"
     ]
    }
   ],
   "source": [
    "jumlahMenu = int(input('Masukkan Jumlah Donat DUAARRR!!!: '))\n",
    "\n",
    "menuDict = {}\n",
    "\n",
    "for i in range(jumlahMenu):\n",
    "    userInput = input(f'Data {i + 1}: ').split()\n",
    "    menuDict[userInput[0]] = {'harga': int(userInput[1]), 'rasa': userInput[2]}\n",
    "\n",
    "dataRestoran = Data(menuDict)\n",
    "\n",
    "jumlahPembeli = int(input('Masukkan Jumlah Pembeli: '))\n",
    "for i in range(jumlahPembeli):\n",
    "    arguments = input(f'Pembeli {i + 1}: ').split()\n",
    "    if arguments[0] == 'BELI_NAMA':\n",
    "        dataRestoran.beliNama(arguments[1])\n",
    "    if arguments[0] == 'BELI_RASA':\n",
    "        dataRestoran.beliRasa(arguments[1])\n",
    "\n",
    "print('\\n')\n",
    "print(f'Donat Terjual: {dataRestoran.returnBought()}')\n",
    "print(f'Total Pendapatan: {dataRestoran.income}')\n",
    "    "
   ]
  },
  {
   "cell_type": "code",
   "execution_count": 98,
   "metadata": {},
   "outputs": [
    {
     "output_type": "stream",
     "name": "stdout",
     "text": [
      "Donat Terjual: {'DonutCheese', 'DonutDaging'}\n"
     ]
    }
   ],
   "source": []
  },
  {
   "cell_type": "code",
   "execution_count": 15,
   "metadata": {},
   "outputs": [
    {
     "output_type": "stream",
     "name": "stdout",
     "text": [
      "Peserta yang datang ke Webinar Donat DUAARRR!!!:\nVenti(1), Lumine(1), Fischl(1), Jean(2), Diluc(3), Klee(3)\nPeserta yang datang ke seluruh Webinar Donat DUAARRR!!!:\nDiluc, Klee\n"
     ]
    }
   ],
   "source": [
    "webinarList = [set(), set(), set()]\n",
    "attendanceCount = {}\n",
    "\n",
    "for i in range(0, 3):\n",
    "    for j in range(int(input(f'Nama yang akan dicatat untuk Webinar {i}: '))):\n",
    "        nama = input(f'Masukkan nama {j + 1}')\n",
    "        if nama:\n",
    "            webinarList[i].add(nama)\n",
    "\n",
    "for i in webinarList:\n",
    "    for j in i:\n",
    "        if j not in attendanceCount.keys():\n",
    "            attendanceCount[j] = 1\n",
    "        else:\n",
    "            attendanceCount[j] += 1\n",
    "\n",
    "unionSet = webinarList[0] & webinarList[1] & webinarList[2]\n",
    "\n",
    "print('Peserta yang datang ke Webinar Donat DUAARRR!!!:')\n",
    "for index, item in enumerate(sorted(attendanceCount.items(), key=lambda x: -x[1])):\n",
    "    if index != len(attendanceCount.items()) - 1:\n",
    "        print(f'{item[0]}({item[1]})', end=', ')\n",
    "    else:\n",
    "        print(f'{item[0]}({item[1]})')\n",
    "print('Peserta yang datang ke seluruh Webinar Donat DUAARRR!!!:')\n",
    "print(*unionSet, sep=\", \")\n"
   ]
  },
  {
   "cell_type": "code",
   "execution_count": 13,
   "metadata": {},
   "outputs": [
    {
     "output_type": "stream",
     "name": "stdout",
     "text": [
      "Meta(2), Adrian(2)\n"
     ]
    }
   ],
   "source": []
  },
  {
   "cell_type": "code",
   "execution_count": null,
   "metadata": {},
   "outputs": [],
   "source": []
  },
  {
   "cell_type": "code",
   "execution_count": null,
   "metadata": {},
   "outputs": [],
   "source": []
  }
 ]
}